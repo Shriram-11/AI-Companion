{
 "cells": [
  {
   "cell_type": "code",
   "execution_count": 4,
   "metadata": {},
   "outputs": [
    {
     "name": "stderr",
     "output_type": "stream",
     "text": [
      "C:\\Users\\SHRIRAM\\.cache\\chroma\\onnx_models\\all-MiniLM-L6-v2\\onnx.tar.gz: 100%|██████████| 79.3M/79.3M [10:45<00:00, 129kiB/s] \n"
     ]
    },
    {
     "name": "stdout",
     "output_type": "stream",
     "text": [
      "{'ids': [['doc1']], 'embeddings': None, 'documents': [['This is a test document']], 'uris': None, 'data': None, 'metadatas': [[{'source': 'test'}]], 'distances': [[0.8545427842875148]], 'included': [<IncludeEnum.distances: 'distances'>, <IncludeEnum.documents: 'documents'>, <IncludeEnum.metadatas: 'metadatas'>]}\n"
     ]
    }
   ],
   "source": [
    "import chromadb\n",
    "\n",
    "# Configure ChromaDB with local storage path\n",
    "client = chromadb.PersistentClient(path=\"./chroma_db\")  # Specify the directory for database files\n",
    "\n",
    "# Create or access a collection\n",
    "collection = client.get_or_create_collection(\"docs_collection\")\n",
    "\n",
    "# Dummy data for testing\n",
    "collection.add(\n",
    "    documents=[\"This is a test document\"],\n",
    "    metadatas=[{\"source\": \"test\"}],\n",
    "    ids=[\"doc1\"]\n",
    ")\n",
    "\n",
    "# Example: Query the collection\n",
    "results = collection.query(query_texts=[\"test\"], n_results=1)\n",
    "\n",
    "print(results)\n"
   ]
  },
  {
   "cell_type": "code",
   "execution_count": 2,
   "metadata": {},
   "outputs": [
    {
     "name": "stderr",
     "output_type": "stream",
     "text": [
      "d:\\AI-Companion\\.venv\\Lib\\site-packages\\tqdm\\auto.py:21: TqdmWarning: IProgress not found. Please update jupyter and ipywidgets. See https://ipywidgets.readthedocs.io/en/stable/user_install.html\n",
      "  from .autonotebook import tqdm as notebook_tqdm\n"
     ]
    }
   ],
   "source": [
    "from PyPDF2 import PdfReader\n",
    "from langchain.text_splitter import RecursiveCharacterTextSplitter\n",
    "import os\n",
    "from langchain_google_genai import GoogleGenerativeAIEmbeddings\n",
    "import google.generativeai as genai\n",
    "from langchain_google_genai import ChatGoogleGenerativeAI\n",
    "from langchain.chains.question_answering import load_qa_chain\n",
    "from langchain.prompts import PromptTemplate\n",
    "from dotenv import load_dotenv\n",
    "import chromadb\n",
    "import hashlib\n"
   ]
  },
  {
   "cell_type": "code",
   "execution_count": 3,
   "metadata": {},
   "outputs": [],
   "source": [
    "# Configure ChromaDB with local storage path\n",
    "client = chromadb.PersistentClient(path=\"./chroma_db\")  # Specify the directory for database files\n",
    "# Create or access a collection\n",
    "client.delete_collection(\"docs_collection\")\n",
    "collection = client.get_or_create_collection(\"docs_collection\")\n"
   ]
  },
  {
   "cell_type": "code",
   "execution_count": null,
   "metadata": {},
   "outputs": [],
   "source": [
    "# load emvironment variables\n",
    "load_dotenv()\n",
    "api_key=os.getenv(\"API\")\n",
    "# one thing i noticed if you device varables have same names as the .env files it will get the device variables\n",
    "#print(api_key)\n",
    "genai.configure(api_key=\"API\")"
   ]
  },
  {
   "cell_type": "code",
   "execution_count": null,
   "metadata": {},
   "outputs": [],
   "source": []
  },
  {
   "cell_type": "code",
   "execution_count": 9,
   "metadata": {},
   "outputs": [],
   "source": [
    "def get_text_from_pdf(file_path):\n",
    "    pdf = PdfReader(file_path)\n",
    "    text = \"\"\n",
    "    for page in pdf.pages:\n",
    "        text += page.extract_text()\n",
    "    return text"
   ]
  },
  {
   "cell_type": "code",
   "execution_count": 10,
   "metadata": {},
   "outputs": [],
   "source": [
    "def get_text_from_txt(file_path):\n",
    "    \"\"\"\n",
    "    Reads text from a TXT file.\n",
    "    \"\"\"\n",
    "    with open(file_path, \"r\", encoding=\"utf-8\") as file:\n",
    "        return file.read()"
   ]
  },
  {
   "cell_type": "code",
   "execution_count": 11,
   "metadata": {},
   "outputs": [],
   "source": [
    "def get_chunks(text):\n",
    "    text_splitter = RecursiveCharacterTextSplitter(chunk_size=2000, chunk_overlap=300)\n",
    "    chunks = text_splitter.split_text(text)\n",
    "    return chunks"
   ]
  },
  {
   "cell_type": "code",
   "execution_count": 12,
   "metadata": {},
   "outputs": [
    {
     "name": "stdout",
     "output_type": "stream",
     "text": [
      "2\n"
     ]
    }
   ],
   "source": [
    "print(len(get_chunks(\"This is a test document\"*100)))"
   ]
  },
  {
   "cell_type": "code",
   "execution_count": 13,
   "metadata": {},
   "outputs": [
    {
     "name": "stdout",
     "output_type": "stream",
     "text": [
      "ee305913fdde41c60c42fffd72e3c5b8\n"
     ]
    }
   ],
   "source": [
    "import time\n",
    "import random\n",
    "import hashlib\n",
    "\n",
    "def generate_doc_id():\n",
    "    \"\"\"\n",
    "    Generates a unique, compact ID  to store vectors in the database.\n",
    "    rtype: str\n",
    "    \"\"\"\n",
    "    timestamp = int(time.time()).to_bytes(4, 'big')  # 4 bytes of UNIX timestamp\n",
    "    random_part = random.getrandbits(48).to_bytes(6, 'big')  # 6 bytes of randomness\n",
    "    unique_bytes = timestamp + random_part  # 10 bytes total \n",
    "    \n",
    "    return hashlib.md5(unique_bytes).hexdigest()  # Full-length MD5 hash (32 chars)\n",
    "\n",
    "# Example usage\n",
    "print(generate_doc_id())  # Example output: 'e99a18c428cb38d5f260853678922e03'\n"
   ]
  },
  {
   "cell_type": "code",
   "execution_count": 52,
   "metadata": {},
   "outputs": [
    {
     "name": "stdout",
     "output_type": "stream",
     "text": [
      "Stored IDs: ['bcc47f9ac6f08a8c87bf036ca27a993d']\n",
      "Stored Documents: ['Black Holes: The Mysterious Cosmic Phenomena\\nBlack holes are regions in space where the gravitational pull is so strong that nothing, not even light, can escape. They are formed when massive stars collapse under their own gravity, leading to the creation of an incredibly dense singularity at the center. The boundary surrounding this singularity is called the event horizon, beyond which nothing can return.\\n\\nThere are three primary types of black holes:\\n\\nStellar Black Holes – These form from the remnants of massive stars after they undergo supernova explosions. They typically have masses ranging from a few to tens of times that of the Sun.\\nSupermassive Black Holes – Found at the center of most galaxies, these black holes have masses millions or even billions of times that of the Sun. The supermassive black hole at the center of the Milky Way is called Sagittarius A and has a mass of about 4.3 million suns.\\nIntermediate Black Holes – These black holes are believed to have masses between stellar and supermassive black holes, but their existence is still under research.\\nBlack holes can only be detected indirectly, as they do not emit light. Scientists observe the effects they have on nearby objects, such as stars orbiting them at extreme speeds, gravitational lensing, and the emission of X-rays from material falling into them. The first direct image of a black hole was captured in 2019 by the Event Horizon Telescope (EHT), showing the supermassive black hole at the center of the M87 galaxy.\\n\\nThe concept of black holes has led to numerous theories in physics, including those related to time travel, wormholes, and Hawking radiation—a process theorized by Stephen Hawking where black holes slowly lose mass due to quantum mechanical effects.']\n",
      "Total stored entries: 1\n",
      "Test Passed: All embeddings stored successfully!\n"
     ]
    }
   ],
   "source": [
    "def store_vectors(chunks):\n",
    "    \"\"\"\n",
    "    IMPORTANT:\n",
    "    The ChromaDB collection's dimensionality is fixed at the time of creation, based on the first inserted embeddings.\n",
    "    For example, if the collection was initially populated with 384-dimensional embeddings, it will always expect 384 dimensions.\n",
    "    If you change the embedding model or modify its configuration (such as using a model that outputs 768-dimensional vectors),\n",
    "    this will cause a dimensionality mismatch error (e.g., \"Embedding dimension 768 does not match collection dimensionality 384\").\n",
    "\n",
    "    In future:\n",
    "        - DO NOT change the embedding model or its output dimensionality once the collection has been created.\n",
    "        - If a change is necessary, you must either delete the previous data (or create a new collection) to match the new dimensionality,\n",
    "        which may not be feasible in a production environment.\n",
    "        \n",
    "    To retain full information and avoid having to delete existing data, ensure that the embedding model and its configuration remain consistent.\n",
    "    \"\"\"\n",
    "\n",
    "    # Create an instance of the embeddings class using the correct model\n",
    "    embeddings_obj = GoogleGenerativeAIEmbeddings(model=\"models/embedding-001\")\n",
    "    # Generate embeddings for the list of texts using embed_documents\n",
    "    vectors = embeddings_obj.embed_documents(chunks)\n",
    "    \n",
    "    # Iterate through the texts and store each one with its corresponding vector\n",
    "    for i, text in enumerate(chunks):\n",
    "        doc_id = generate_doc_id()  # Generate a unique ID for this text\n",
    "        collection.add(\n",
    "            ids=[doc_id],\n",
    "            embeddings=[vectors[i]],  # vector for this text\n",
    "            documents=[text]            # original text (optional)\n",
    "        )\n",
    "\n",
    "def test_embedding_storage():\n",
    "    # Define dummy texts\n",
    "    txt=\"\"\"Black Holes: The Mysterious Cosmic Phenomena\n",
    "Black holes are regions in space where the gravitational pull is so strong that nothing, not even light, can escape. They are formed when massive stars collapse under their own gravity, leading to the creation of an incredibly dense singularity at the center. The boundary surrounding this singularity is called the event horizon, beyond which nothing can return.\n",
    "\n",
    "There are three primary types of black holes:\n",
    "\n",
    "Stellar Black Holes – These form from the remnants of massive stars after they undergo supernova explosions. They typically have masses ranging from a few to tens of times that of the Sun.\n",
    "Supermassive Black Holes – Found at the center of most galaxies, these black holes have masses millions or even billions of times that of the Sun. The supermassive black hole at the center of the Milky Way is called Sagittarius A and has a mass of about 4.3 million suns.\n",
    "Intermediate Black Holes – These black holes are believed to have masses between stellar and supermassive black holes, but their existence is still under research.\n",
    "Black holes can only be detected indirectly, as they do not emit light. Scientists observe the effects they have on nearby objects, such as stars orbiting them at extreme speeds, gravitational lensing, and the emission of X-rays from material falling into them. The first direct image of a black hole was captured in 2019 by the Event Horizon Telescope (EHT), showing the supermassive black hole at the center of the M87 galaxy.\n",
    "\n",
    "The concept of black holes has led to numerous theories in physics, including those related to time travel, wormholes, and Hawking radiation—a process theorized by Stephen Hawking where black holes slowly lose mass due to quantum mechanical effects.\"\"\"\n",
    "    dummy_texts = [\n",
    "        txt\n",
    "    ]\n",
    "    \n",
    "    # Store embeddings in the collection\n",
    "    store_vectors(dummy_texts)\n",
    "    \n",
    "    # Retrieve stored data from the collection\n",
    "    stored_data = collection.get()\n",
    "    \n",
    "    # Print stored IDs and documents for inspection\n",
    "    print(\"Stored IDs:\", stored_data[\"ids\"])\n",
    "    print(\"Stored Documents:\", stored_data[\"documents\"])\n",
    "    print(\"Total stored entries:\", len(stored_data[\"ids\"]))\n",
    "    \n",
    "    # Check that all dummy texts were stored\n",
    "    assert len(stored_data[\"ids\"]) >= len(dummy_texts), \"Error: Some embeddings are missing!\"\n",
    "    print(\"Test Passed: All embeddings stored successfully!\")\n",
    "# Run the test function\n",
    "test_embedding_storage()"
   ]
  },
  {
   "cell_type": "code",
   "execution_count": 15,
   "metadata": {},
   "outputs": [],
   "source": [
    "def process_files(files):\n",
    "    # Yet to be tested\n",
    "    for file in files:\n",
    "        if file.endswith(\".pdf\"):\n",
    "            text=get_text_from_pdf(file)\n",
    "        elif file.endswith(\".txt\"):\n",
    "            text=get_text_from_txt(file)\n",
    "        else:\n",
    "            print(\"File type not supported\")\n",
    "            continue\n",
    "        chunks=get_chunks(text)# get chunks\n",
    "        store_vectors(chunks)# store vectors"
   ]
  },
  {
   "cell_type": "code",
   "execution_count": 70,
   "metadata": {},
   "outputs": [
    {
     "name": "stderr",
     "output_type": "stream",
     "text": [
      "Number of requested results 3 is greater than number of elements in index 1, updating n_results = 1\n"
     ]
    },
    {
     "name": "stdout",
     "output_type": "stream",
     "text": [
      "Retrieved Documents: [['Black Holes: The Mysterious Cosmic Phenomena\\nBlack holes are regions in space where the gravitational pull is so strong that nothing, not even light, can escape. They are formed when massive stars collapse under their own gravity, leading to the creation of an incredibly dense singularity at the center. The boundary surrounding this singularity is called the event horizon, beyond which nothing can return.\\n\\nThere are three primary types of black holes:\\n\\nStellar Black Holes – These form from the remnants of massive stars after they undergo supernova explosions. They typically have masses ranging from a few to tens of times that of the Sun.\\nSupermassive Black Holes – Found at the center of most galaxies, these black holes have masses millions or even billions of times that of the Sun. The supermassive black hole at the center of the Milky Way is called Sagittarius A and has a mass of about 4.3 million suns.\\nIntermediate Black Holes – These black holes are believed to have masses between stellar and supermassive black holes, but their existence is still under research.\\nBlack holes can only be detected indirectly, as they do not emit light. Scientists observe the effects they have on nearby objects, such as stars orbiting them at extreme speeds, gravitational lensing, and the emission of X-rays from material falling into them. The first direct image of a black hole was captured in 2019 by the Event Horizon Telescope (EHT), showing the supermassive black hole at the center of the M87 galaxy.\\n\\nThe concept of black holes has led to numerous theories in physics, including those related to time travel, wormholes, and Hawking radiation—a process theorized by Stephen Hawking where black holes slowly lose mass due to quantum mechanical effects.']]\n",
      "Distances: [[0.5613957599802463]]\n"
     ]
    }
   ],
   "source": [
    "\n",
    "\n",
    "# Ensure the model used here is the SAME as the one used during document insertion\n",
    "embeddings_model = GoogleGenerativeAIEmbeddings(model=\"models/embedding-001\")\n",
    "\n",
    "query_vector = embeddings_model.embed_query(\"What are black holes?\")\n",
    "\n",
    "results = collection.query(\n",
    "    query_embeddings=[query_vector],  # Now using correctly-sized embeddings\n",
    "    n_results=3  \n",
    ")\n",
    "\n",
    "print(\"Retrieved Documents:\", results[\"documents\"])\n",
    "print(\"Distances:\", results[\"distances\"])\n"
   ]
  },
  {
   "cell_type": "code",
   "execution_count": 40,
   "metadata": {},
   "outputs": [
    {
     "name": "stdout",
     "output_type": "stream",
     "text": [
      "API Key is valid. Available models: ['models/chat-bison-001', 'models/text-bison-001', 'models/embedding-gecko-001', 'models/gemini-1.0-pro-latest', 'models/gemini-1.0-pro', 'models/gemini-pro', 'models/gemini-1.0-pro-001', 'models/gemini-1.0-pro-vision-latest', 'models/gemini-pro-vision', 'models/gemini-1.5-pro-latest', 'models/gemini-1.5-pro-001', 'models/gemini-1.5-pro-002', 'models/gemini-1.5-pro', 'models/gemini-1.5-flash-latest', 'models/gemini-1.5-flash-001', 'models/gemini-1.5-flash-001-tuning', 'models/gemini-1.5-flash', 'models/gemini-1.5-flash-002', 'models/gemini-1.5-flash-8b', 'models/gemini-1.5-flash-8b-001', 'models/gemini-1.5-flash-8b-latest', 'models/gemini-1.5-flash-8b-exp-0827', 'models/gemini-1.5-flash-8b-exp-0924', 'models/gemini-2.0-flash-exp', 'models/gemini-2.0-flash', 'models/gemini-2.0-flash-001', 'models/gemini-2.0-flash-lite-preview', 'models/gemini-2.0-flash-lite-preview-02-05', 'models/gemini-2.0-pro-exp', 'models/gemini-2.0-pro-exp-02-05', 'models/gemini-exp-1206', 'models/gemini-2.0-flash-thinking-exp-01-21', 'models/gemini-2.0-flash-thinking-exp', 'models/gemini-2.0-flash-thinking-exp-1219', 'models/learnlm-1.5-pro-experimental', 'models/embedding-001', 'models/text-embedding-004', 'models/aqa', 'models/imagen-3.0-generate-002']\n"
     ]
    }
   ],
   "source": [
    "try:\n",
    "    models = genai.list_models()  # List available models\n",
    "    print(\"API Key is valid. Available models:\", [model.name for model in models])\n",
    "except Exception as e:\n",
    "    print(\"Error: Invalid API Key or API issue:\", e)"
   ]
  },
  {
   "cell_type": "code",
   "execution_count": 69,
   "metadata": {},
   "outputs": [
    {
     "name": "stdout",
     "output_type": "stream",
     "text": [
      "DOne\n"
     ]
    }
   ],
   "source": [
    "import getpass\n",
    "import os\n",
    "\n",
    "if not os.getenv(\"GOOGLE_API_KEY\"):\n",
    "    os.environ[\"GOOGLE_API_KEY\"] = getpass.getpass(\"Enter your Google AI API key: \")\n",
    "print(\"DOne\")\n",
    "#print(os.environ[\"GOOGLE_API_KEY\"])"
   ]
  },
  {
   "cell_type": "code",
   "execution_count": null,
   "metadata": {},
   "outputs": [
    {
     "name": "stdout",
     "output_type": "stream",
     "text": [
      "{'ids': [['bcc47f9ac6f08a8c87bf036ca27a993d']], 'embeddings': None, 'documents': [['Black Holes: The Mysterious Cosmic Phenomena\\nBlack holes are regions in space where the gravitational pull is so strong that nothing, not even light, can escape. They are formed when massive stars collapse under their own gravity, leading to the creation of an incredibly dense singularity at the center. The boundary surrounding this singularity is called the event horizon, beyond which nothing can return.\\n\\nThere are three primary types of black holes:\\n\\nStellar Black Holes – These form from the remnants of massive stars after they undergo supernova explosions. They typically have masses ranging from a few to tens of times that of the Sun.\\nSupermassive Black Holes – Found at the center of most galaxies, these black holes have masses millions or even billions of times that of the Sun. The supermassive black hole at the center of the Milky Way is called Sagittarius A and has a mass of about 4.3 million suns.\\nIntermediate Black Holes – These black holes are believed to have masses between stellar and supermassive black holes, but their existence is still under research.\\nBlack holes can only be detected indirectly, as they do not emit light. Scientists observe the effects they have on nearby objects, such as stars orbiting them at extreme speeds, gravitational lensing, and the emission of X-rays from material falling into them. The first direct image of a black hole was captured in 2019 by the Event Horizon Telescope (EHT), showing the supermassive black hole at the center of the M87 galaxy.\\n\\nThe concept of black holes has led to numerous theories in physics, including those related to time travel, wormholes, and Hawking radiation—a process theorized by Stephen Hawking where black holes slowly lose mass due to quantum mechanical effects.']], 'uris': None, 'data': None, 'metadatas': [[None]], 'distances': [[0.5320762806091645]], 'included': [<IncludeEnum.distances: 'distances'>, <IncludeEnum.documents: 'documents'>, <IncludeEnum.metadatas: 'metadatas'>]}\n",
      "{'output_text': 'Black holes are regions in space where the gravitational pull is so strong that nothing, not even light, can escape. They are formed when massive stars collapse under their own gravity, leading to the creation of an incredibly dense singularity at the center.'}\n"
     ]
    }
   ],
   "source": [
    "def get_conversational_chain():\n",
    "    \"\"\"Loads the conversational chain with Gemini API\"\"\"\n",
    "    prompt_template = \"\"\"\n",
    "   You are a knowledgeable assistant. Use the provided context to answer the question in detail. If the answer is not in the context, say: 'The answer is not available in the provided context,' then continue answering based on what you know.'\n",
    "    \n",
    "    Context:\\n{context}\\n\n",
    "    Question:\\n{question}\\n\n",
    "    \n",
    "    Answer:\n",
    "    \"\"\"\n",
    "    model = ChatGoogleGenerativeAI(model=\"gemini-pro\",api_key=\"KEY\",temperature=0.3)\n",
    "    prompt = PromptTemplate(template=prompt_template, input_variables=[\"context\", \"question\"])\n",
    "    chain = load_qa_chain(model, chain_type=\"stuff\", prompt=prompt)\n",
    "\n",
    "    return chain\n",
    "\n",
    "from langchain.schema import Document  # Import Document\n",
    "\n",
    "def ask_llm(user_prompt):\n",
    "    \"\"\"Queries the LLM after retrieving relevant documents\"\"\"\n",
    "    \n",
    "    # Initialize embeddings\n",
    "    embeddings = GoogleGenerativeAIEmbeddings(model=\"models/embedding-001\")  # Ensure this model exists\n",
    "\n",
    "    # Initialize ChromaDB client and collection\n",
    "    client = chromadb.PersistentClient(path=\"./chroma_db\")\n",
    "    collection = client.get_or_create_collection(name=\"docs_collection\")\n",
    "\n",
    "    # Perform similarity search\n",
    "    results = collection.query(\n",
    "        query_embeddings=[embeddings.embed_query(user_prompt)],\n",
    "        n_results=1  \n",
    "    )\n",
    "\n",
    "    print(results)\n",
    "\n",
    "    # Load conversational chain\n",
    "    chain = get_conversational_chain()\n",
    "    \n",
    "    # Retrieve documents and convert them to Document objects\n",
    "    docs = [\n",
    "        Document(page_content=doc) for doc in results[\"documents\"][0]\n",
    "    ] if results[\"documents\"] else []\n",
    "\n",
    "    # Generate response\n",
    "    response = chain(\n",
    "        {\"input_documents\": docs, \"question\": user_prompt},\n",
    "        return_only_outputs=True\n",
    "    )\n",
    "\n",
    "    return response\n",
    "\n",
    "\n",
    "print(ask_llm(\"What are black holes\"))\n"
   ]
  },
  {
   "cell_type": "code",
   "execution_count": 58,
   "metadata": {},
   "outputs": [
    {
     "name": "stdout",
     "output_type": "stream",
     "text": [
      "768\n"
     ]
    }
   ],
   "source": [
    "stored_embeddings = collection.get(include=[\"embeddings\"])\n",
    "print(len(stored_embeddings[\"embeddings\"][0]))  # Should print 768\n"
   ]
  }
 ],
 "metadata": {
  "kernelspec": {
   "display_name": ".venv",
   "language": "python",
   "name": "python3"
  },
  "language_info": {
   "codemirror_mode": {
    "name": "ipython",
    "version": 3
   },
   "file_extension": ".py",
   "mimetype": "text/x-python",
   "name": "python",
   "nbconvert_exporter": "python",
   "pygments_lexer": "ipython3",
   "version": "3.12.1"
  }
 },
 "nbformat": 4,
 "nbformat_minor": 2
}
