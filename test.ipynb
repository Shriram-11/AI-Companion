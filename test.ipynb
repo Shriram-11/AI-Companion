{
 "cells": [
  {
   "cell_type": "code",
   "execution_count": 4,
   "metadata": {},
   "outputs": [
    {
     "name": "stderr",
     "output_type": "stream",
     "text": [
      "C:\\Users\\SHRIRAM\\.cache\\chroma\\onnx_models\\all-MiniLM-L6-v2\\onnx.tar.gz: 100%|██████████| 79.3M/79.3M [10:45<00:00, 129kiB/s] \n"
     ]
    },
    {
     "name": "stdout",
     "output_type": "stream",
     "text": [
      "{'ids': [['doc1']], 'embeddings': None, 'documents': [['This is a test document']], 'uris': None, 'data': None, 'metadatas': [[{'source': 'test'}]], 'distances': [[0.8545427842875148]], 'included': [<IncludeEnum.distances: 'distances'>, <IncludeEnum.documents: 'documents'>, <IncludeEnum.metadatas: 'metadatas'>]}\n"
     ]
    }
   ],
   "source": [
    "import chromadb\n",
    "\n",
    "# Configure ChromaDB with local storage path\n",
    "client = chromadb.PersistentClient(path=\"./chroma_db\")  # Specify the directory for database files\n",
    "\n",
    "# Create or access a collection\n",
    "collection = client.get_or_create_collection(\"docs_collection\")\n",
    "\n",
    "# Dummy data for testing\n",
    "collection.add(\n",
    "    documents=[\"This is a test document\"],\n",
    "    metadatas=[{\"source\": \"test\"}],\n",
    "    ids=[\"doc1\"]\n",
    ")\n",
    "\n",
    "# Example: Query the collection\n",
    "results = collection.query(query_texts=[\"test\"], n_results=1)\n",
    "\n",
    "print(results)\n"
   ]
  }
 ],
 "metadata": {
  "kernelspec": {
   "display_name": ".venv",
   "language": "python",
   "name": "python3"
  },
  "language_info": {
   "codemirror_mode": {
    "name": "ipython",
    "version": 3
   },
   "file_extension": ".py",
   "mimetype": "text/x-python",
   "name": "python",
   "nbconvert_exporter": "python",
   "pygments_lexer": "ipython3",
   "version": "3.12.1"
  }
 },
 "nbformat": 4,
 "nbformat_minor": 2
}
